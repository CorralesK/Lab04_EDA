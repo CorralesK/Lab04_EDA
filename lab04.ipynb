{
  "nbformat": 4,
  "nbformat_minor": 0,
  "metadata": {
    "colab": {
      "provenance": [],
      "authorship_tag": "ABX9TyP4t4wkm2w6B1fF/KKCqJk0",
      "include_colab_link": true
    },
    "kernelspec": {
      "name": "python3",
      "display_name": "Python 3"
    },
    "language_info": {
      "name": "python"
    }
  },
  "cells": [
    {
      "cell_type": "markdown",
      "metadata": {
        "id": "view-in-github",
        "colab_type": "text"
      },
      "source": [
        "<a href=\"https://colab.research.google.com/github/CorralesK/Lab04_EDA/blob/main/lab04.ipynb\" target=\"_parent\"><img src=\"https://colab.research.google.com/assets/colab-badge.svg\" alt=\"Open In Colab\"/></a>"
      ]
    },
    {
      "cell_type": "markdown",
      "source": [
        "# **Laboratorio 04 - EDA**"
      ],
      "metadata": {
        "id": "ln7tZ4H2yAlL"
      }
    },
    {
      "cell_type": "code",
      "execution_count": null,
      "metadata": {
        "id": "8XEZt0gCx6OA"
      },
      "outputs": [],
      "source": [
        "# Cargando las librerias\n",
        "import pandas as pd\n",
        "import matplotlib.pyplot as plt\n",
        "import seaborn as sns\n",
        "import numpy as np\n",
        "from scipy.stats import skew, kurtosis"
      ]
    },
    {
      "cell_type": "markdown",
      "source": [
        "## 1. Carga y comprensión inicial de los datos"
      ],
      "metadata": {
        "id": "nxmkP5JXUPs2"
      }
    },
    {
      "cell_type": "code",
      "source": [
        "# Ruta del archivo\n",
        "filepath = 'https://raw.githubusercontent.com/CorralesK/Lab04_EDA/main/datos.csv' # Me falta que se cargue de git\n",
        "\n",
        "# Cargar el dataset\n",
        "df = pd.read_csv(filepath)"
      ],
      "metadata": {
        "id": "EWP6CO-qiTMg"
      },
      "execution_count": null,
      "outputs": []
    },
    {
      "cell_type": "code",
      "source": [
        "# Verificar el formato de las columnas. Comprobar el tipo de cada\n",
        "print(\"Información del dataset:\")\n",
        "df.info()"
      ],
      "metadata": {
        "id": "cfti2WjHiTPa",
        "outputId": "b7ef55c5-9c33-4a05-b39d-34150711de8c",
        "colab": {
          "base_uri": "https://localhost:8080/"
        }
      },
      "execution_count": 28,
      "outputs": [
        {
          "output_type": "stream",
          "name": "stdout",
          "text": [
            "Información del dataset:\n",
            "<class 'pandas.core.frame.DataFrame'>\n",
            "RangeIndex: 5000 entries, 0 to 4999\n",
            "Data columns (total 18 columns):\n",
            " #   Column                      Non-Null Count  Dtype  \n",
            "---  ------                      --------------  -----  \n",
            " 0   churn                       5000 non-null   string \n",
            " 1   accountlength               5000 non-null   int64  \n",
            " 2   internationalplan           5000 non-null   string \n",
            " 3   voicemailplan               5000 non-null   string \n",
            " 4   numbervmailmessages         5000 non-null   int64  \n",
            " 5   totaldayminutes             5000 non-null   float64\n",
            " 6   totaldaycalls               5000 non-null   int64  \n",
            " 7   totaldaycharge              5000 non-null   float64\n",
            " 8   totaleveminutes             5000 non-null   float64\n",
            " 9   totalevecalls               5000 non-null   int64  \n",
            " 10  totalevecharge              5000 non-null   float64\n",
            " 11  totalnightminutes           5000 non-null   float64\n",
            " 12  totalnightcalls             5000 non-null   int64  \n",
            " 13  totalnightcharge            5000 non-null   float64\n",
            " 14  totalintlminutes            5000 non-null   float64\n",
            " 15  totalintlcalls              5000 non-null   int64  \n",
            " 16  totalintlcharge             5000 non-null   float64\n",
            " 17  numbercustomerservicecalls  5000 non-null   int64  \n",
            "dtypes: float64(8), int64(7), string(3)\n",
            "memory usage: 703.2 KB\n"
          ]
        }
      ]
    },
    {
      "cell_type": "code",
      "source": [
        "# Explorar las primeras filas\n",
        "print(df.head())"
      ],
      "metadata": {
        "id": "Mp5IlBrKUleA"
      },
      "execution_count": null,
      "outputs": []
    },
    {
      "cell_type": "code",
      "source": [
        "# Observar la cantidad de filas y columnas\n",
        "print(f\"Dimensiones del dataset (filas, columnas): {df.shape}\")"
      ],
      "metadata": {
        "id": "-9yfQsRQUlw_"
      },
      "execution_count": null,
      "outputs": []
    },
    {
      "cell_type": "markdown",
      "source": [
        "## 2. Limpiar y preparar los datos"
      ],
      "metadata": {
        "id": "8t2Vlp1VUwcz"
      }
    },
    {
      "cell_type": "code",
      "source": [
        "# Identificar y tratar valores nulos\n",
        "print(\"Valores nulos por columna:\")\n",
        "df.isnull().sum()"
      ],
      "metadata": {
        "id": "7lXesZc5Uzoo"
      },
      "execution_count": null,
      "outputs": []
    },
    {
      "cell_type": "code",
      "source": [
        "# Eliminar duplicados\n",
        "initial_rows = df.shape[0]\n",
        "df = df.drop_duplicates()\n",
        "print(f\"Filas eliminadas por duplicados: {initial_rows - df.shape[0]}\")"
      ],
      "metadata": {
        "id": "wnCH_5OfUzrb"
      },
      "execution_count": null,
      "outputs": []
    },
    {
      "cell_type": "code",
      "source": [
        "# Revisar valores atípicos\n",
        "\n",
        "# Función reutilizable para identificar atípicos con el método IQR.\n",
        "def identificar_atipicos(data, columna, factor=1.5):\n",
        "    Q1 = data[columna].quantile(0.25)\n",
        "    Q3 = data[columna].quantile(0.75)\n",
        "    IQR = Q3 - Q1\n",
        "    mediana = data[columna].median()\n",
        "    valor_minimo = data[columna].min()\n",
        "    valor_maximo = data[columna].max()\n",
        "\n",
        "    print(f\"\\nResumen estadístico para {col}:\")\n",
        "    print(f\"- Primer cuartil (Q1): {Q1}\")\n",
        "    print(f\"- Tercer cuartil (Q3): {Q3}\")\n",
        "    print(f\"- Rango intercuartílico (IQR): {IQR}\")\n",
        "    print(f\"- Mediana: {mediana}\")\n",
        "    print(f\"- Valor mínimo: {valor_minimo}\")\n",
        "    print(f\"- Valor máximo: {valor_maximo}\\n\")\n",
        "\n",
        "    # Sacar cuales son los limites\n",
        "    limite_inferior = Q1 - (factor * IQR)\n",
        "    limite_superior = Q3 + (factor * IQR)\n",
        "\n",
        "    return data[(data[columna] < limite_inferior) | (data[columna] > limite_superior)]"
      ],
      "metadata": {
        "id": "sVhsdL3hpDWX"
      },
      "execution_count": null,
      "outputs": []
    },
    {
      "cell_type": "code",
      "source": [
        "# - Identificar atípicos en todas las columnas numéricas\n",
        "numeric_cols = df.select_dtypes(include=['float64', 'int64']).columns\n",
        "for col in numeric_cols:\n",
        "    atipicos = identificar_atipicos(df, col)\n",
        "    print(f\"- Valores atípicos: {len(atipicos)} registros\")\n",
        "    if len(atipicos) > 0:\n",
        "        print(f\"- Rango de valores atípicos: {atipicos[col].min()} a {atipicos[col].max()}\")"
      ],
      "metadata": {
        "id": "b8aXFl033dl3"
      },
      "execution_count": null,
      "outputs": []
    },
    {
      "cell_type": "code",
      "source": [
        "# Convertir tipos de datos\n",
        "# - Identificar las columnas y sus tipos actuales\n",
        "df.dtypes"
      ],
      "metadata": {
        "id": "qrmxQEMiU2O3"
      },
      "execution_count": null,
      "outputs": []
    },
    {
      "cell_type": "code",
      "source": [
        "# - Convertir tipos de datos\n",
        "df['churn'] = df['churn'].astype('string')\n",
        "df['internationalplan'] = df['internationalplan'].astype('string')\n",
        "df['voicemailplan'] = df['voicemailplan'].astype('string')"
      ],
      "metadata": {
        "id": "L5QuY2vz0dMF"
      },
      "execution_count": null,
      "outputs": []
    },
    {
      "cell_type": "code",
      "source": [
        "# - Verificar los tipos de datos\n",
        "df.dtypes"
      ],
      "metadata": {
        "id": "deGWcbYS23D1"
      },
      "execution_count": null,
      "outputs": []
    },
    {
      "cell_type": "code",
      "source": [
        "# Cambiar nombre de columnas si procede\n",
        "\n",
        "# No es necesario cambiar nombres, pero si fuera el caso:\n",
        "# df.rename(columns={\"old_name\": \"new_name\"}, inplace=True)\n",
        "print(\"Nombres de columnas actuales:\")\n",
        "df.columns"
      ],
      "metadata": {
        "id": "9pDy7_wTU2kf"
      },
      "execution_count": null,
      "outputs": []
    },
    {
      "cell_type": "code",
      "source": [
        "# Tratar con variables categóricas\n",
        "categorical_cols = df.select_dtypes(include='string').columns\n",
        "\n",
        "print(\"Variables categóricas identificadas:\", categorical_cols.tolist())\n",
        "\n",
        "for col in categorical_cols:\n",
        "    print(f\"\\nDistribución de {col}:\")\n",
        "    print(df[col].value_counts())"
      ],
      "metadata": {
        "id": "kS5WIRL1U26R"
      },
      "execution_count": null,
      "outputs": []
    },
    {
      "cell_type": "markdown",
      "source": [
        "## 3. Análisis univariado"
      ],
      "metadata": {
        "id": "Tjh9s9XiWieE"
      }
    },
    {
      "cell_type": "code",
      "source": [
        "# Estadísticas descriptivas\n",
        "df.describe()"
      ],
      "metadata": {
        "id": "bW6agyWuWmEE"
      },
      "execution_count": null,
      "outputs": []
    },
    {
      "cell_type": "code",
      "source": [
        "# Histograma y distribución de datos\n",
        "num_cols = df.select_dtypes(include=['float64', 'int64']).columns\n",
        "for col in num_cols:\n",
        "    plt.figure(figsize=(14, 6))\n",
        "\n",
        "    # Histograma con KDE\n",
        "    plt.subplot(1, 2, 1)\n",
        "    sns.histplot(df[col], kde=True, bins=30)\n",
        "    plt.title(f\"Distribución de {col}\")\n",
        "\n",
        "    # Boxplot\n",
        "    plt.subplot(1, 2, 2)\n",
        "    sns.boxplot(x=df[col])\n",
        "    plt.title(f\"Boxplot de {col}\")\n",
        "\n",
        "    plt.tight_layout()\n",
        "    plt.show()"
      ],
      "metadata": {
        "id": "SPDYQJDaWtxt"
      },
      "execution_count": null,
      "outputs": []
    },
    {
      "cell_type": "code",
      "source": [
        "# Comprobación de asimetría y normalidad\n",
        "for col in num_cols:\n",
        "    skewness = skew(df[col])\n",
        "    kurt = kurtosis(df[col])\n",
        "    print(f\"{col}:\")\n",
        "    print(f\"  Asimetría (Skewness): {skewness:.2f}\")\n",
        "    print(f\"  Curtosis: {kurt:.2f}\")"
      ],
      "metadata": {
        "id": "ZiCFL3bjWt-A"
      },
      "execution_count": null,
      "outputs": []
    },
    {
      "cell_type": "markdown",
      "source": [
        "## 4. Análisis bivariado"
      ],
      "metadata": {
        "id": "9bDY7GZf3L7h"
      }
    },
    {
      "cell_type": "code",
      "source": [],
      "metadata": {
        "id": "E3_jSNmO3PIf"
      },
      "execution_count": null,
      "outputs": []
    }
  ]
}