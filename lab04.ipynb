{
  "nbformat": 4,
  "nbformat_minor": 0,
  "metadata": {
    "colab": {
      "provenance": [],
      "authorship_tag": "ABX9TyMr9sidxVxHdxeMKth2mjrB",
      "include_colab_link": true
    },
    "kernelspec": {
      "name": "python3",
      "display_name": "Python 3"
    },
    "language_info": {
      "name": "python"
    }
  },
  "cells": [
    {
      "cell_type": "markdown",
      "metadata": {
        "id": "view-in-github",
        "colab_type": "text"
      },
      "source": [
        "<a href=\"https://colab.research.google.com/github/CorralesK/Lab04_EDA/blob/main/lab04.ipynb\" target=\"_parent\"><img src=\"https://colab.research.google.com/assets/colab-badge.svg\" alt=\"Open In Colab\"/></a>"
      ]
    },
    {
      "cell_type": "markdown",
      "source": [
        "# **Laboratorio 04 - EDA**"
      ],
      "metadata": {
        "id": "ln7tZ4H2yAlL"
      }
    },
    {
      "cell_type": "code",
      "execution_count": null,
      "metadata": {
        "id": "8XEZt0gCx6OA"
      },
      "outputs": [],
      "source": [
        "# Cargando las librerias\n",
        "import pandas as pd\n",
        "import matplotlib.pyplot as plt\n",
        "import numpy as np\n",
        "import seaborn as sns"
      ]
    },
    {
      "cell_type": "markdown",
      "source": [
        "## 1. Carga y comprensión inicial de los datos"
      ],
      "metadata": {
        "id": "nxmkP5JXUPs2"
      }
    },
    {
      "cell_type": "code",
      "source": [
        "# Cargar el dataset\n"
      ],
      "metadata": {
        "id": "IGaWD3BFUEro"
      },
      "execution_count": null,
      "outputs": []
    },
    {
      "cell_type": "code",
      "source": [
        "# Verificar el formato\n"
      ],
      "metadata": {
        "id": "Xw-N28sgUGOP"
      },
      "execution_count": null,
      "outputs": []
    },
    {
      "cell_type": "code",
      "source": [
        "# Explorar las primeras filas\n"
      ],
      "metadata": {
        "id": "U_bmEZk3UGQs"
      },
      "execution_count": null,
      "outputs": []
    },
    {
      "cell_type": "code",
      "source": [
        "# Comprobar el tipo de cada\n"
      ],
      "metadata": {
        "id": "Mp5IlBrKUleA"
      },
      "execution_count": null,
      "outputs": []
    },
    {
      "cell_type": "code",
      "source": [
        "# Observar la cantidad de filas y columnas\n"
      ],
      "metadata": {
        "id": "-9yfQsRQUlw_"
      },
      "execution_count": null,
      "outputs": []
    },
    {
      "cell_type": "markdown",
      "source": [
        "## 2. Limpiar y preparar los datos"
      ],
      "metadata": {
        "id": "8t2Vlp1VUwcz"
      }
    },
    {
      "cell_type": "code",
      "source": [
        "# Identificar y tratar valores nulos\n"
      ],
      "metadata": {
        "id": "7lXesZc5Uzoo"
      },
      "execution_count": null,
      "outputs": []
    },
    {
      "cell_type": "code",
      "source": [
        "# Eliminar duplicados\n"
      ],
      "metadata": {
        "id": "wnCH_5OfUzrb"
      },
      "execution_count": null,
      "outputs": []
    },
    {
      "cell_type": "code",
      "source": [
        "# Revisar valores atípicos\n"
      ],
      "metadata": {
        "id": "ihPgB2zNU2L4"
      },
      "execution_count": null,
      "outputs": []
    },
    {
      "cell_type": "code",
      "source": [
        "# Convertir tipos de datos\n"
      ],
      "metadata": {
        "id": "qrmxQEMiU2O3"
      },
      "execution_count": null,
      "outputs": []
    },
    {
      "cell_type": "code",
      "source": [
        "# Cambiar nombre de columnas si procede\n"
      ],
      "metadata": {
        "id": "9pDy7_wTU2kf"
      },
      "execution_count": null,
      "outputs": []
    },
    {
      "cell_type": "code",
      "source": [
        "# Tratar con variables categóricas\n"
      ],
      "metadata": {
        "id": "kS5WIRL1U26R"
      },
      "execution_count": null,
      "outputs": []
    },
    {
      "cell_type": "markdown",
      "source": [],
      "metadata": {
        "id": "TXGQR0-MVech"
      }
    },
    {
      "cell_type": "markdown",
      "source": [
        "## 3. Análisis univariado"
      ],
      "metadata": {
        "id": "Tjh9s9XiWieE"
      }
    },
    {
      "cell_type": "code",
      "source": [
        "# Estadísticas descriptivas\n"
      ],
      "metadata": {
        "id": "bW6agyWuWmEE"
      },
      "execution_count": null,
      "outputs": []
    },
    {
      "cell_type": "code",
      "source": [
        "# Histograma y distribución de datos\n"
      ],
      "metadata": {
        "id": "SPDYQJDaWtxt"
      },
      "execution_count": null,
      "outputs": []
    },
    {
      "cell_type": "code",
      "source": [
        "# Comprobación de asimetría y normalidad\n"
      ],
      "metadata": {
        "id": "ZiCFL3bjWt-A"
      },
      "execution_count": null,
      "outputs": []
    }
  ]
}